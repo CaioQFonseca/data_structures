{
 "cells": [
  {
   "cell_type": "markdown",
   "metadata": {},
   "source": [
    "# Graphical User Interface Development with Tkinter"
   ]
  },
  {
   "cell_type": "markdown",
   "metadata": {},
   "source": [
    "In this notebook, we will be going over the functionalities of tkinter in order to develop a GUI for our practical classes and assignments.\n",
    "\n",
    "References:\n",
    "* https://www.tutorialspoint.com/python/python_gui_programming.htm\n",
    "* https://github.com/CaioQFonseca/EEFinalProject/blob/master/GUI_Code\n"
   ]
  },
  {
   "cell_type": "markdown",
   "metadata": {},
   "source": [
    " "
   ]
  },
  {
   "cell_type": "markdown",
   "metadata": {},
   "source": [
    "Import the Library first"
   ]
  },
  {
   "cell_type": "code",
   "execution_count": 1,
   "metadata": {},
   "outputs": [],
   "source": [
    "from tkinter import *"
   ]
  },
  {
   "cell_type": "code",
   "execution_count": null,
   "metadata": {},
   "outputs": [],
   "source": [
    "from PIL import ImageTk, Image"
   ]
  },
  {
   "cell_type": "markdown",
   "metadata": {},
   "source": [
    "Create an object of tkinter and create a loop for such object, so that the window will not close. This code will be the last part of our code.\n",
    "\n",
    "* root = Tk()\n",
    "* main = Principal() # we'll define this class \n",
    "* root.mainloop()"
   ]
  },
  {
   "cell_type": "markdown",
   "metadata": {},
   "source": [
    "### Creating a window defining its the size"
   ]
  },
  {
   "cell_type": "code",
   "execution_count": null,
   "metadata": {},
   "outputs": [],
   "source": [
    "top = Tk() # master window\n",
    "\n",
    "canvas_test = Canvas(top, bg = 'light green', height = 250, width = 300)\n",
    "canvas_test.pack()\n",
    "\n",
    "\n",
    "top.mainloop()  # maintain the window in a loop"
   ]
  },
  {
   "cell_type": "markdown",
   "metadata": {},
   "source": [
    "### Creating a button in the window"
   ]
  },
  {
   "cell_type": "code",
   "execution_count": null,
   "metadata": {},
   "outputs": [],
   "source": [
    "top = Tk()\n",
    "\n",
    "def Print():\n",
    "    label1 = Label(top, text = 'Test button')\n",
    "    label1.pack()\n",
    "    \n",
    "button1 = Button(top, text = \"test\", command = Print, fg = 'red')\n",
    "\n",
    "button1.pack()\n",
    "top.mainloop()\n",
    "    "
   ]
  },
  {
   "cell_type": "markdown",
   "metadata": {},
   "source": [
    "### Checkbutton"
   ]
  },
  {
   "cell_type": "code",
   "execution_count": null,
   "metadata": {},
   "outputs": [],
   "source": [
    "top = Tk()\n",
    "\n",
    "def Labelprinter():\n",
    "    label1 = Label(top, text = 'Test button')\n",
    "    label1.pack()\n",
    "    \n",
    "checkbutton1 = Checkbutton(top, text = \"test\", command = Labelprinter, fg = 'red')\n",
    "\n",
    "checkbutton1.pack()\n",
    "top.mainloop()"
   ]
  },
  {
   "cell_type": "markdown",
   "metadata": {},
   "source": [
    "### Getting an input or an entry for the user"
   ]
  },
  {
   "cell_type": "code",
   "execution_count": null,
   "metadata": {},
   "outputs": [],
   "source": [
    "\n",
    "\n",
    "top = Tk()\n",
    "\n",
    "def printtext():\n",
    "    label1 = Label(top, text = 'This is your username ' + str(username.get())).grid(row = 5, column = 1)\n",
    "\n",
    "\n",
    "l1 = Label(top, text = 'Username', fg = 'blue').grid(row = 1, column = 1)\n",
    "username = StringVar()\n",
    "e1 = Entry(top, textvariable = username).grid(row = 1, column = 3)\n",
    "l2 = Label(top, text = 'Password', fg = 'red').grid(row = 2, column = 1)\n",
    "password = StringVar()\n",
    "e2 = Entry(top, textvariable = password).grid(row = 2, column = 3)\n",
    "buttontest = Button(top, text = 'Ok', command = printtext).grid(row = 3, column = 2)\n",
    "\n",
    "\n",
    "top.mainloop()"
   ]
  },
  {
   "cell_type": "markdown",
   "metadata": {},
   "source": [
    "### Defining the main class in order to construct the window"
   ]
  },
  {
   "cell_type": "code",
   "execution_count": 7,
   "metadata": {},
   "outputs": [],
   "source": [
    "class Principal():\n",
    "    def __init__(self, master):\n",
    "        self.master = master\n",
    "        self.master.title(\"First Practical Class\")\n",
    "        self.canvas_example = Canvas(self.master, bg = 'light blue', height = 400, width = 600)\n",
    "        self.label1 = Label(self.master, text = 'Graphical User Interface \\n', bg = \"light blue\", fg = 'black', font = (\"Arial\", 16))\n",
    "        self.label1.pack(fill = BOTH, expand = YES)\n",
    "        self.student = Label(self.master, text = ' StudentID').pack(fill = BOTH, expand = YES)\n",
    "        self.canvas_example.pack(fill = BOTH, expand = YES)\n",
    "        \n",
    "        # Creating a menu\n",
    "        self.menu = Menu(master)\n",
    "        self.master.config(menu = self.menu)\n",
    "        \n",
    "        self.subMenu = Menu(self.menu)\n",
    "        self.menu.add_cascade(label = 'Topics', menu = self.subMenu)\n",
    "        self.subMenu.add_command(label = 'Collections', command = collections)\n",
    "        self.exitMenu = Menu(self.menu)\n",
    "        self.menu.add_cascade(label = 'Quit', menu = self.exitMenu)\n",
    "        self.exitMenu.add_command(label = 'exit', command = quit)\n",
    "        \n",
    "        \n",
    "        \n",
    "def collections():\n",
    "                       \n",
    "    root2 = Tk()\n",
    "    root2.title(\"Collections\")\n",
    "    \n",
    "    def printmessage():\n",
    "        l1 = Label(root2, text = 'You chose this collection').grid(row = 5, column = 2)\n",
    "    \n",
    "    listbutton = Button(root2, text = 'Lists', fg = 'red', command = printmessage).grid(row = 1, column = 2)\n",
    "    tuplebutton = Button(root2, text = 'Tuples', fg = 'blue', command = printmessage).grid(row = 2, column = 2)\n",
    "    setbutton = Button(root2, text = 'Sets', fg = 'green', command = printmessage).grid(row = 3, column = 2)\n",
    "    dictbutton = Button(root2, text = 'Dictionaries', fg = 'light blue', command = printmessage).grid(row = 4, column = 2)\n",
    "    root2.mainloop()"
   ]
  },
  {
   "cell_type": "code",
   "execution_count": 8,
   "metadata": {},
   "outputs": [],
   "source": [
    "root = Tk()\n",
    "main = Principal(root)\n",
    "root.mainloop()"
   ]
  },
  {
   "cell_type": "code",
   "execution_count": null,
   "metadata": {},
   "outputs": [],
   "source": []
  },
  {
   "cell_type": "code",
   "execution_count": null,
   "metadata": {},
   "outputs": [],
   "source": []
  }
 ],
 "metadata": {
  "kernelspec": {
   "display_name": "Python 3",
   "language": "python",
   "name": "python3"
  },
  "language_info": {
   "codemirror_mode": {
    "name": "ipython",
    "version": 3
   },
   "file_extension": ".py",
   "mimetype": "text/x-python",
   "name": "python",
   "nbconvert_exporter": "python",
   "pygments_lexer": "ipython3",
   "version": "3.8.3"
  }
 },
 "nbformat": 4,
 "nbformat_minor": 4
}
