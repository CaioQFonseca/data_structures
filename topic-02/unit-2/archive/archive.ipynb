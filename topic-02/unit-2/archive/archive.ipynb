{
 "cells": [
  {
   "cell_type": "markdown",
   "metadata": {},
   "source": [
    "# Practical Class 2 - Hashing"
   ]
  },
  {
   "cell_type": "markdown",
   "metadata": {},
   "source": [
    "References: \n",
    "\n",
    "* https://github.com/CaioQFonseca/Modules_Lectures_2020/blob/master/Hashing_data_structures.ipynb\n",
    "* https://tutors-svelte.netlify.app/#/topic/data-structures-2020.netlify.app/topic-01\n",
    "* Data Structures and Algorithms with Python - Kent Lee and Steve Hubbard"
   ]
  },
  {
   "cell_type": "markdown",
   "metadata": {},
   "source": [
    "  "
   ]
  },
  {
   "cell_type": "markdown",
   "metadata": {},
   "source": [
    "## Integrating Hashing into your GUI "
   ]
  },
  {
   "cell_type": "markdown",
   "metadata": {},
   "source": [
    "In this practical class, you will integrate the concepts you learn about hashing in the GUI you started developing in the first practical class "
   ]
  },
  {
   "cell_type": "markdown",
   "metadata": {},
   "source": [
    " "
   ]
  },
  {
   "cell_type": "markdown",
   "metadata": {},
   "source": [
    "In order to implement this code into your window you should write your functions or classes here and then import into your first code (practical class 1) containing your GUI. \n",
    "\n",
    "Import GUI (If this is the name you saved)\n",
    "\n",
    "However this is only a recommendation or an option for the integration. The other alternative is to bring your code for your GUI to this notebook by copy + paste. "
   ]
  },
  {
   "cell_type": "markdown",
   "metadata": {},
   "source": [
    " "
   ]
  },
  {
   "cell_type": "markdown",
   "metadata": {},
   "source": [
    "### Add a menu topic with the name Hashing"
   ]
  },
  {
   "cell_type": "markdown",
   "metadata": {},
   "source": [
    "Into the menu created for your GUI, add the menu topic with the name Hashing.\n",
    "\n",
    "The menu topic \"Hashing\" needs to contain two options for the user to choose (add_cascade()):\n",
    "* Hash Table;\n",
    "* Storing a password.\n",
    "\n"
   ]
  },
  {
   "cell_type": "code",
   "execution_count": null,
   "metadata": {},
   "outputs": [],
   "source": []
  },
  {
   "cell_type": "markdown",
   "metadata": {},
   "source": [
    "### Hash Table"
   ]
  },
  {
   "cell_type": "markdown",
   "metadata": {},
   "source": [
    "In this option of the menu 'Hashing', there should be given the option for the user to enter the size of the hash table desired, and then provide the spaces for the user to enter the keys he wants to store. \n",
    "\n",
    "Basically, this means that you have to define the function that will get the key values from the user as well as the size the user provided, calculate the hash values and store the keys into each respective address inside the hash table."
   ]
  },
  {
   "cell_type": "markdown",
   "metadata": {},
   "source": [
    " "
   ]
  },
  {
   "cell_type": "code",
   "execution_count": null,
   "metadata": {},
   "outputs": [],
   "source": []
  },
  {
   "cell_type": "code",
   "execution_count": null,
   "metadata": {},
   "outputs": [],
   "source": []
  },
  {
   "cell_type": "markdown",
   "metadata": {},
   "source": [
    " "
   ]
  },
  {
   "cell_type": "markdown",
   "metadata": {},
   "source": [
    "### Store a Password"
   ]
  },
  {
   "cell_type": "markdown",
   "metadata": {},
   "source": [
    "In this option of the menu 'Hashing', there should be two spaces for the user to give his/her input. \n",
    "\n",
    "* Username;\n",
    "* Password.\n",
    "\n",
    "After getting the username and password, define a function that will create salted hashes for the password as well as the username and then store in a dictionary.  "
   ]
  },
  {
   "cell_type": "markdown",
   "metadata": {},
   "source": [
    "  "
   ]
  },
  {
   "cell_type": "code",
   "execution_count": null,
   "metadata": {},
   "outputs": [],
   "source": []
  },
  {
   "cell_type": "code",
   "execution_count": null,
   "metadata": {},
   "outputs": [],
   "source": []
  },
  {
   "cell_type": "markdown",
   "metadata": {},
   "source": [
    " "
   ]
  },
  {
   "cell_type": "markdown",
   "metadata": {},
   "source": [
    "### Showing the results"
   ]
  },
  {
   "cell_type": "markdown",
   "metadata": {},
   "source": [
    "Show the results either on the console or add a button on each of the applications above, so that the user can click and can check the results in the GUI.\n",
    "\n",
    "For example: After you stored the username and password in a salted hashed form, the user can click in a button that will show in the screen the results."
   ]
  },
  {
   "cell_type": "code",
   "execution_count": null,
   "metadata": {},
   "outputs": [],
   "source": []
  }
 ],
 "metadata": {
  "kernelspec": {
   "display_name": "Python 3",
   "language": "python",
   "name": "python3"
  },
  "language_info": {
   "codemirror_mode": {
    "name": "ipython",
    "version": 3
   },
   "file_extension": ".py",
   "mimetype": "text/x-python",
   "name": "python",
   "nbconvert_exporter": "python",
   "pygments_lexer": "ipython3",
   "version": "3.8.3"
  }
 },
 "nbformat": 4,
 "nbformat_minor": 4
}
